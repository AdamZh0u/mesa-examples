{
 "cells": [
  {
   "cell_type": "code",
   "execution_count": 1,
   "metadata": {
    "collapsed": true
   },
   "outputs": [],
   "source": [
    "import networkx as nx\n",
    "import random"
   ]
  },
  {
   "cell_type": "code",
   "execution_count": 2,
   "metadata": {
    "collapsed": false
   },
   "outputs": [],
   "source": [
    "from mesa import Agent, Model\n",
    "from mesa.time import RandomActivation"
   ]
  },
  {
   "cell_type": "code",
   "execution_count": 3,
   "metadata": {
    "collapsed": false
   },
   "outputs": [],
   "source": [
    "class NetworkAgent(Agent):\n",
    "    def __init__(self, unique_id):\n",
    "        self.unique_id = unique_id\n",
    "    \n",
    "    def step(self, model):\n",
    "        # The agent step will go here\n",
    "        pass"
   ]
  },
  {
   "cell_type": "markdown",
   "metadata": {},
   "source": [
    "### Code from Netlogo"
   ]
  },
  {
   "cell_type": "raw",
   "metadata": {},
   "source": [
    "to setup-spatially-clustered-network\n",
    "  let num-links (average-node-degree * number-of-nodes) / 2\n",
    "  while [count links < num-links ]\n",
    "  [\n",
    "    ask one-of turtles\n",
    "    [\n",
    "      let choice (min-one-of (other turtles with [not link-neighbor? myself])\n",
    "                   [distance myself])\n",
    "      if choice != nobody [ create-link-with choice ]\n",
    "    ]\n",
    "  ]\n",
    "  ; make the network look a little prettier\n",
    "  repeat 10\n",
    "  [\n",
    "    layout-spring turtles links 0.3 (world-width / (sqrt number-of-nodes)) 1\n",
    "  ]\n",
    "end"
   ]
  },
  {
   "cell_type": "code",
   "execution_count": 13,
   "metadata": {
    "collapsed": false
   },
   "outputs": [],
   "source": [
    "class NetworkModel(Model):\n",
    "    \"\"\"A model with some number of agents\"\"\"\n",
    "    def __init__(self, N, avg_node_degree):\n",
    "        self.num_agents = N\n",
    "        self.avg_node_degree = avg_node_degree\n",
    "        self.schedule = RandomActivation(self)\n",
    "        self.graph = None\n",
    "                \n",
    "        #create Graph\n",
    "        num_links = (self.avg_node_degree * self.num_agents) / 2\n",
    "        \n",
    "        G = nx.dense_gnm_random_graph(self.num_agents, num_links)\n",
    "        print(G.edges())\n",
    "        \n",
    "    def step(self):\n",
    "        \"\"\"Advance the model by one step.\"\"\"\n",
    "        self.schedule.step()"
   ]
  },
  {
   "cell_type": "code",
   "execution_count": 14,
   "metadata": {
    "collapsed": false
   },
   "outputs": [
    {
     "name": "stdout",
     "output_type": "stream",
     "text": [
      "[(0, 12), (0, 4), (0, 44), (0, 36), (1, 18), (1, 34), (1, 14), (1, 15), (2, 8), (2, 32), (2, 31), (3, 18), (3, 22), (3, 7), (3, 43), (3, 46), (3, 31), (4, 18), (4, 25), (4, 15), (4, 45), (4, 31), (5, 44), (5, 13), (5, 30), (6, 42), (6, 44), (6, 38), (6, 15), (8, 42), (9, 49), (9, 20), (10, 32), (10, 21), (10, 40), (10, 30), (10, 46), (10, 47), (11, 19), (11, 31), (12, 17), (12, 30), (13, 33), (13, 38), (13, 39), (13, 49), (13, 45), (14, 36), (14, 37), (14, 39), (14, 45), (14, 30), (14, 47), (15, 37), (15, 49), (16, 34), (16, 42), (16, 21), (16, 30), (17, 36), (17, 26), (17, 27), (17, 47), (18, 46), (19, 48), (19, 33), (19, 40), (19, 27), (19, 28), (20, 40), (20, 21), (20, 22), (20, 37), (21, 48), (21, 36), (21, 43), (22, 48), (23, 43), (24, 32), (24, 34), (24, 43), (24, 44), (25, 32), (26, 35), (27, 44), (27, 38), (29, 40), (29, 45), (29, 38), (29, 31), (31, 42), (32, 40), (33, 40), (34, 37), (34, 39), (35, 38), (36, 42), (38, 49), (38, 41), (41, 44)]\n"
     ]
    }
   ],
   "source": [
    "empty_model = NetworkModel(50, 4)\n",
    "empty_model.step()"
   ]
  },
  {
   "cell_type": "code",
   "execution_count": 59,
   "metadata": {
    "collapsed": false
   },
   "outputs": [
    {
     "name": "stdout",
     "output_type": "stream",
     "text": [
      "Using matplotlib backend: TkAgg\n"
     ]
    }
   ],
   "source": [
    "import matplotlib.pyplot as plt\n",
    "%matplotlib"
   ]
  },
  {
   "cell_type": "code",
   "execution_count": 60,
   "metadata": {
    "collapsed": false
   },
   "outputs": [
    {
     "ename": "TypeError",
     "evalue": "object of type 'NoneType' has no len()",
     "output_type": "error",
     "traceback": [
      "\u001b[0;31m---------------------------------------------------------------------------\u001b[0m",
      "\u001b[0;31mTypeError\u001b[0m                                 Traceback (most recent call last)",
      "\u001b[0;32m<ipython-input-60-f881fb4e6a5b>\u001b[0m in \u001b[0;36m<module>\u001b[0;34m()\u001b[0m\n\u001b[1;32m      1\u001b[0m \u001b[0mG\u001b[0m \u001b[0;34m=\u001b[0m \u001b[0mmodel\u001b[0m\u001b[0;34m.\u001b[0m\u001b[0mgraph\u001b[0m\u001b[0;34m\u001b[0m\u001b[0m\n\u001b[0;32m----> 2\u001b[0;31m \u001b[0mlen\u001b[0m\u001b[0;34m(\u001b[0m\u001b[0mmodel\u001b[0m\u001b[0;34m.\u001b[0m\u001b[0mgraph\u001b[0m\u001b[0;34m)\u001b[0m\u001b[0;34m\u001b[0m\u001b[0m\n\u001b[0m",
      "\u001b[0;31mTypeError\u001b[0m: object of type 'NoneType' has no len()"
     ]
    }
   ],
   "source": [
    "G = model.graph\n",
    "len(model.graph)"
   ]
  },
  {
   "cell_type": "code",
   "execution_count": null,
   "metadata": {
    "collapsed": false
   },
   "outputs": [],
   "source": []
  },
  {
   "cell_type": "code",
   "execution_count": null,
   "metadata": {
    "collapsed": true
   },
   "outputs": [],
   "source": [
    "3 = 3\n",
    "4 = 6\n",
    "5 = 10\n",
    "6 = 15\n",
    "20 = 190"
   ]
  }
 ],
 "metadata": {
  "kernelspec": {
   "display_name": "Python 3",
   "language": "python",
   "name": "python3"
  },
  "language_info": {
   "codemirror_mode": {
    "name": "ipython",
    "version": 3
   },
   "file_extension": ".py",
   "mimetype": "text/x-python",
   "name": "python",
   "nbconvert_exporter": "python",
   "pygments_lexer": "ipython3",
   "version": "3.5.1"
  }
 },
 "nbformat": 4,
 "nbformat_minor": 0
}
